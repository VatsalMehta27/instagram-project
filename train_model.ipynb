{
 "cells": [
  {
   "cell_type": "code",
   "execution_count": 1,
   "id": "dc57c234-8c5d-40ce-92e0-6d9363e67cb9",
   "metadata": {},
   "outputs": [
    {
     "name": "stderr",
     "output_type": "stream",
     "text": [
      "[nltk_data] Downloading package stopwords to\n",
      "[nltk_data]     /home/mehta.vats/nltk_data...\n",
      "[nltk_data]   Package stopwords is already up-to-date!\n"
     ]
    }
   ],
   "source": [
    "%load_ext autoreload\n",
    "%autoreload 2\n",
    "\n",
    "import pandas as pd\n",
    "\n",
    "from preprocessing.preprocess_text import clean_text\n",
    "from preprocessing.gen_text_embeddings import generate_text_embeddings\n",
    "import torch\n",
    "from pytorch_datasets.text_dataset import TextDataset\n",
    "from torch.utils.data import DataLoader, random_split\n",
    "from models.vae_text import TextVAE\n",
    "from torch.optim import Adam"
   ]
  },
  {
   "cell_type": "code",
   "execution_count": 2,
   "id": "841ac87a-ff7a-4c35-b7a8-0b12a151b987",
   "metadata": {},
   "outputs": [
    {
     "name": "stderr",
     "output_type": "stream",
     "text": [
      "/tmp/ipykernel_7771/1832655542.py:3: DtypeWarning: Columns (24,41,42,43,44,45,46,47,48,49,50,51,52,53,54,55,56,57,58,59,60,62,63,65) have mixed types. Specify dtype option on import or set low_memory=False.\n",
      "  instagram_data = pd.read_csv(\"data/instagram_data.csv\")\n"
     ]
    },
    {
     "name": "stdout",
     "output_type": "stream",
     "text": [
      "Removed 7662 rows due to N/A descriptions.\n"
     ]
    }
   ],
   "source": [
    "# Load and preprocess data\n",
    "\n",
    "instagram_data = pd.read_csv(\"data/instagram_data.csv\")\n",
    "data = instagram_data.dropna(subset=[\"description\"]).reset_index(drop=True)\n",
    "\n",
    "print(f\"Removed {len(instagram_data) - len(data)} rows due to N/A descriptions.\")\n",
    "\n",
    "post_descriptions = (\n",
    "    data[\"description\"]\n",
    "    .apply(lambda text: clean_text(text) if type(text) == str else text)\n",
    "    .tolist()\n",
    ")\n",
    "\n",
    "post_classes = data[\"Party\"]"
   ]
  },
  {
   "cell_type": "code",
   "execution_count": 3,
   "id": "f6b08908-b68a-41f0-816a-68eb7373f97c",
   "metadata": {},
   "outputs": [],
   "source": [
    "# Generate Text Embeddings\n",
    "text_embeddings, word_index_mapping = generate_text_embeddings(post_descriptions, 32)"
   ]
  },
  {
   "cell_type": "code",
   "execution_count": 4,
   "id": "3db8a2d6-0787-440c-a82f-95e3ccbb35a5",
   "metadata": {},
   "outputs": [
    {
     "name": "stdout",
     "output_type": "stream",
     "text": [
      "373325\n",
      "298660\n",
      "74665\n"
     ]
    }
   ],
   "source": [
    "# Create datasets\n",
    "dataset = TextDataset(post_descriptions, word_index_mapping, post_classes)\n",
    "\n",
    "train_dataset, test_dataset = random_split(dataset, [0.8, 0.2])\n",
    "print(len(dataset))\n",
    "print(len(train_dataset))\n",
    "print(len(test_dataset))"
   ]
  },
  {
   "cell_type": "code",
   "execution_count": 10,
   "id": "aaa384ca-bca3-489f-81c5-14f706d3e4f6",
   "metadata": {},
   "outputs": [
    {
     "name": "stdout",
     "output_type": "stream",
     "text": [
      "311\n",
      "Using cpu device\n",
      "208232\n",
      "208231\n",
      "hang in there\n"
     ]
    },
    {
     "ename": "RuntimeError",
     "evalue": "[enforce fail at alloc_cpu.cpp:75] err == 0. DefaultCPUAllocator: can't allocate memory: you tried to allocate 265257582592 bytes. Error code 12 (Cannot allocate memory)",
     "output_type": "error",
     "traceback": [
      "\u001b[0;31m---------------------------------------------------------------------------\u001b[0m",
      "\u001b[0;31mRuntimeError\u001b[0m                              Traceback (most recent call last)",
      "Cell \u001b[0;32mIn[10], line 31\u001b[0m\n\u001b[1;32m     26\u001b[0m \u001b[38;5;66;03m# print(party)\u001b[39;00m\n\u001b[1;32m     27\u001b[0m \u001b[38;5;66;03m# print(torch.argmax(classifier_result, dim=-1))\u001b[39;00m\n\u001b[1;32m     29\u001b[0m optimizer\u001b[38;5;241m.\u001b[39mzero_grad()\n\u001b[0;32m---> 31\u001b[0m loss \u001b[38;5;241m=\u001b[39m model\u001b[38;5;241m.\u001b[39mloss_function(\n\u001b[1;32m     32\u001b[0m     text, party, decoded_text, mu, logvar, classifier_result\n\u001b[1;32m     33\u001b[0m )\n\u001b[1;32m     34\u001b[0m loss\u001b[38;5;241m.\u001b[39mbackward()\n\u001b[1;32m     36\u001b[0m train_loss \u001b[38;5;241m+\u001b[39m\u001b[38;5;241m=\u001b[39m loss\u001b[38;5;241m.\u001b[39mitem()\n",
      "File \u001b[0;32m/work/Instagram_Project/instagram-project/models/vae_text.py:149\u001b[0m, in \u001b[0;36mTextVAE.loss_function\u001b[0;34m(self, text, post_class, decoded_text, mu, logvar, predicted_class)\u001b[0m\n\u001b[1;32m    146\u001b[0m \u001b[38;5;28;01mdef\u001b[39;00m \u001b[38;5;21mloss_function\u001b[39m(\n\u001b[1;32m    147\u001b[0m     \u001b[38;5;28mself\u001b[39m, text, post_class, decoded_text, mu, logvar, predicted_class\n\u001b[1;32m    148\u001b[0m ):\n\u001b[0;32m--> 149\u001b[0m     one_hot_input_text \u001b[38;5;241m=\u001b[39m nn\u001b[38;5;241m.\u001b[39mfunctional\u001b[38;5;241m.\u001b[39mone_hot(text, num_classes \u001b[38;5;241m=\u001b[39m \u001b[38;5;28mself\u001b[39m\u001b[38;5;241m.\u001b[39mvocab_size)\u001b[38;5;241m.\u001b[39mfloat()\u001b[38;5;241m.\u001b[39mto(\u001b[38;5;28mself\u001b[39m\u001b[38;5;241m.\u001b[39mdevice)\n\u001b[1;32m    150\u001b[0m     one_hot_input_text[text \u001b[38;5;241m==\u001b[39m \u001b[38;5;28mself\u001b[39m\u001b[38;5;241m.\u001b[39mpadding_index] \u001b[38;5;241m=\u001b[39m \u001b[38;5;241m-\u001b[39m\u001b[38;5;241m100\u001b[39m\n\u001b[1;32m    151\u001b[0m     text_recon_loss \u001b[38;5;241m=\u001b[39m nn\u001b[38;5;241m.\u001b[39mCrossEntropyLoss(ignore_index\u001b[38;5;241m=\u001b[39m\u001b[38;5;241m-\u001b[39m\u001b[38;5;241m100\u001b[39m)(torch\u001b[38;5;241m.\u001b[39mflatten(decoded_text), torch\u001b[38;5;241m.\u001b[39mflatten(one_hot_input_text))\n",
      "\u001b[0;31mRuntimeError\u001b[0m: [enforce fail at alloc_cpu.cpp:75] err == 0. DefaultCPUAllocator: can't allocate memory: you tried to allocate 265257582592 bytes. Error code 12 (Cannot allocate memory)"
     ]
    }
   ],
   "source": [
    "# Train model\n",
    "\n",
    "num_epochs = 10\n",
    "batch_size = 512\n",
    "print(dataset.max_length)\n",
    "train_dataloader = DataLoader(train_dataset, batch_size=batch_size, shuffle=True)\n",
    "test_dataloader = DataLoader(test_dataset, batch_size=batch_size, shuffle=False)\n",
    "\n",
    "device = \"cpu\" # \"cuda\" if torch.cuda.is_available() else \"cpu\"\n",
    "\n",
    "print(f\"Using {device} device\")\n",
    "\n",
    "model = TextVAE(device, 32, 32, text_embeddings, dataset.padding_index, dataset.num_post_classes).to(device)\n",
    "optimizer = Adam(model.parameters(), lr=1e-3)\n",
    "\n",
    "for epoch in range(num_epochs):\n",
    "    model.train()\n",
    "    train_loss = 0\n",
    "\n",
    "    for batch_idx, (text, party) in enumerate(train_dataloader):\n",
    "        if batch_idx % 60 == 0:\n",
    "            print(\"hang in there\")\n",
    "        text = text.to(device)\n",
    "\n",
    "        decoded_text, mu, logvar, classifier_result = model(text)\n",
    "        # print(party)\n",
    "        # print(torch.argmax(classifier_result, dim=-1))\n",
    "        \n",
    "        optimizer.zero_grad()\n",
    "\n",
    "        loss = model.loss_function(\n",
    "            text, party, decoded_text, mu, logvar, classifier_result\n",
    "        )\n",
    "        loss.backward()\n",
    "\n",
    "        train_loss += loss.item()\n",
    "        optimizer.step()\n",
    "\n",
    "    print(f\"Train Epoch: {epoch} \\tLoss: {loss.item():.6f}\")\n"
   ]
  },
  {
   "cell_type": "code",
   "execution_count": null,
   "id": "2674cb07-915b-482e-824a-17139d390183",
   "metadata": {},
   "outputs": [],
   "source": []
  }
 ],
 "metadata": {
  "kernelspec": {
   "display_name": "Python [conda env:.conda-instagram_project] *",
   "language": "python",
   "name": "conda-env-.conda-instagram_project-py"
  },
  "language_info": {
   "codemirror_mode": {
    "name": "ipython",
    "version": 3
   },
   "file_extension": ".py",
   "mimetype": "text/x-python",
   "name": "python",
   "nbconvert_exporter": "python",
   "pygments_lexer": "ipython3",
   "version": "3.11.2"
  }
 },
 "nbformat": 4,
 "nbformat_minor": 5
}
