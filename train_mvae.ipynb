{
 "cells": [
  {
   "cell_type": "code",
   "execution_count": 1,
   "id": "dc57c234-8c5d-40ce-92e0-6d9363e67cb9",
   "metadata": {},
   "outputs": [
    {
     "name": "stderr",
     "output_type": "stream",
     "text": [
      "[nltk_data] Downloading package stopwords to\n",
      "[nltk_data]     /home/mehta.vats/nltk_data...\n",
      "[nltk_data]   Package stopwords is already up-to-date!\n"
     ]
    }
   ],
   "source": [
    "%load_ext autoreload\n",
    "%autoreload 2\n",
    "\n",
    "import pandas as pd\n",
    "\n",
    "from preprocessing.preprocess_text import clean_text\n",
    "from preprocessing.gen_text_embeddings import generate_text_embeddings\n",
    "import torch\n",
    "from pytorch_datasets.mvae_dataset import MVAEDataset\n",
    "from torch.utils.data import DataLoader, random_split\n",
    "from models.mvae import MVAE\n",
    "from torch.optim import Adam"
   ]
  },
  {
   "cell_type": "code",
   "execution_count": 2,
   "id": "e7993ba9-dafb-434d-8a0e-95b6861c9cfa",
   "metadata": {},
   "outputs": [],
   "source": [
    "cuda_device = 0 # set the index of the GPU you want to use\n",
    "torch.cuda.set_device(cuda_device)\n",
    "torch.backends.cudnn.benchmark = True\n",
    "\n",
    "# set the maximum GPU memory usage\n",
    "max_memory_usage = 0.95 # set the maximum memory usage as a fraction of the available memory\n",
    "torch.cuda.set_per_process_memory_fraction(max_memory_usage, cuda_device)"
   ]
  },
  {
   "cell_type": "code",
   "execution_count": 3,
   "id": "2ef52edb-9aed-480e-929b-178542653e1b",
   "metadata": {},
   "outputs": [
    {
     "name": "stdout",
     "output_type": "stream",
     "text": [
      "0.0\n",
      "|===========================================================================|\n",
      "|                  PyTorch CUDA memory summary, device ID 0                 |\n",
      "|---------------------------------------------------------------------------|\n",
      "|            CUDA OOMs: 0            |        cudaMalloc retries: 0         |\n",
      "|===========================================================================|\n",
      "|        Metric         | Cur Usage  | Peak Usage | Tot Alloc  | Tot Freed  |\n",
      "|---------------------------------------------------------------------------|\n",
      "| Allocated memory      |      0 B   |      0 B   |      0 B   |      0 B   |\n",
      "|       from large pool |      0 B   |      0 B   |      0 B   |      0 B   |\n",
      "|       from small pool |      0 B   |      0 B   |      0 B   |      0 B   |\n",
      "|---------------------------------------------------------------------------|\n",
      "| Active memory         |      0 B   |      0 B   |      0 B   |      0 B   |\n",
      "|       from large pool |      0 B   |      0 B   |      0 B   |      0 B   |\n",
      "|       from small pool |      0 B   |      0 B   |      0 B   |      0 B   |\n",
      "|---------------------------------------------------------------------------|\n",
      "| Requested memory      |      0 B   |      0 B   |      0 B   |      0 B   |\n",
      "|       from large pool |      0 B   |      0 B   |      0 B   |      0 B   |\n",
      "|       from small pool |      0 B   |      0 B   |      0 B   |      0 B   |\n",
      "|---------------------------------------------------------------------------|\n",
      "| GPU reserved memory   |      0 B   |      0 B   |      0 B   |      0 B   |\n",
      "|       from large pool |      0 B   |      0 B   |      0 B   |      0 B   |\n",
      "|       from small pool |      0 B   |      0 B   |      0 B   |      0 B   |\n",
      "|---------------------------------------------------------------------------|\n",
      "| Non-releasable memory |      0 B   |      0 B   |      0 B   |      0 B   |\n",
      "|       from large pool |      0 B   |      0 B   |      0 B   |      0 B   |\n",
      "|       from small pool |      0 B   |      0 B   |      0 B   |      0 B   |\n",
      "|---------------------------------------------------------------------------|\n",
      "| Allocations           |       0    |       0    |       0    |       0    |\n",
      "|       from large pool |       0    |       0    |       0    |       0    |\n",
      "|       from small pool |       0    |       0    |       0    |       0    |\n",
      "|---------------------------------------------------------------------------|\n",
      "| Active allocs         |       0    |       0    |       0    |       0    |\n",
      "|       from large pool |       0    |       0    |       0    |       0    |\n",
      "|       from small pool |       0    |       0    |       0    |       0    |\n",
      "|---------------------------------------------------------------------------|\n",
      "| GPU reserved segments |       0    |       0    |       0    |       0    |\n",
      "|       from large pool |       0    |       0    |       0    |       0    |\n",
      "|       from small pool |       0    |       0    |       0    |       0    |\n",
      "|---------------------------------------------------------------------------|\n",
      "| Non-releasable allocs |       0    |       0    |       0    |       0    |\n",
      "|       from large pool |       0    |       0    |       0    |       0    |\n",
      "|       from small pool |       0    |       0    |       0    |       0    |\n",
      "|---------------------------------------------------------------------------|\n",
      "| Oversize allocations  |       0    |       0    |       0    |       0    |\n",
      "|---------------------------------------------------------------------------|\n",
      "| Oversize GPU segments |       0    |       0    |       0    |       0    |\n",
      "|===========================================================================|\n",
      "\n"
     ]
    }
   ],
   "source": [
    "print(torch.cuda.max_memory_allocated(cuda_device)/1024/1024/1024)\n",
    "torch.cuda.empty_cache()\n",
    "\n",
    "print(torch.cuda.memory_summary(device=None, abbreviated=False))"
   ]
  },
  {
   "cell_type": "code",
   "execution_count": 4,
   "id": "841ac87a-ff7a-4c35-b7a8-0b12a151b987",
   "metadata": {},
   "outputs": [
    {
     "name": "stderr",
     "output_type": "stream",
     "text": [
      "/tmp/ipykernel_8139/3546259180.py:3: DtypeWarning: Columns (24,41,42,43,44,45,46,47,48,49,50,51,52,53,54,55,56,57,58,59,60,62,63,65) have mixed types. Specify dtype option on import or set low_memory=False.\n",
      "  instagram_data = pd.read_csv(\"data/instagram_data.csv\")\n"
     ]
    },
    {
     "name": "stdout",
     "output_type": "stream",
     "text": [
      "Removed 7662 rows due to N/A descriptions.\n",
      "Removed 7662 rows due to N/A images.\n"
     ]
    }
   ],
   "source": [
    "# Load and preprocess data\n",
    "\n",
    "instagram_data = pd.read_csv(\"data/instagram_data.csv\")\n",
    "data = instagram_data.dropna(subset=[\"description\"]).reset_index(drop=True)\n",
    "\n",
    "print(f\"Removed {len(instagram_data) - len(data)} rows due to N/A descriptions.\")\n",
    "\n",
    "data = data.dropna(subset=[\"id\"]).reset_index(drop=True)\n",
    "\n",
    "print(f\"Removed {len(instagram_data) - len(data)} rows due to N/A images.\")\n",
    "\n",
    "# data = data.sample(frac=0.1)\n",
    "\n",
    "post_descriptions = (\n",
    "    data[\"description\"]\n",
    "    .apply(lambda text: clean_text(text) if type(text) == str else text)\n",
    "    .tolist()\n",
    ")\n",
    "\n",
    "post_classes = data[\"Party\"].tolist()\n",
    "\n",
    "image_usernames = data[\"username\"].tolist()\n",
    "image_file_ids = data[\"id\"].tolist()\n",
    "image_encoding_folder_path = \"data/VGG/\""
   ]
  },
  {
   "cell_type": "code",
   "execution_count": 5,
   "id": "f6b08908-b68a-41f0-816a-68eb7373f97c",
   "metadata": {},
   "outputs": [],
   "source": [
    "# Generate Text Embeddings\n",
    "text_embeddings, word_index_mapping = generate_text_embeddings(post_descriptions, 32)"
   ]
  },
  {
   "cell_type": "code",
   "execution_count": 6,
   "id": "3db8a2d6-0787-440c-a82f-95e3ccbb35a5",
   "metadata": {},
   "outputs": [
    {
     "name": "stdout",
     "output_type": "stream",
     "text": [
      "11531 of data removed because matching VGG image embeddings not found.\n",
      "Complete Dataset Size: 361794\n",
      "Training Dataset Size: 289436\n",
      "Test Dataset Size: 72358\n"
     ]
    }
   ],
   "source": [
    "# Create datasets\n",
    "dataset = MVAEDataset(post_descriptions, word_index_mapping, image_usernames, image_file_ids, image_encoding_folder_path, post_classes)\n",
    "\n",
    "train_dataset, test_dataset = random_split(dataset, [0.8, 0.2])\n",
    "print(\"Complete Dataset Size:\", len(dataset))\n",
    "print(\"Training Dataset Size:\", len(train_dataset))\n",
    "print(\"Test Dataset Size:\", len(test_dataset))"
   ]
  },
  {
   "cell_type": "code",
   "execution_count": 7,
   "id": "1e78ec00-1301-4ef5-9d8b-9b7988940371",
   "metadata": {},
   "outputs": [],
   "source": [
    "# Set hyperparameters\n",
    "\n",
    "num_epochs = 10\n",
    "batch_size = 15\n",
    "learning_rate = 0.001"
   ]
  },
  {
   "cell_type": "code",
   "execution_count": 9,
   "id": "aaa384ca-bca3-489f-81c5-14f706d3e4f6",
   "metadata": {},
   "outputs": [
    {
     "name": "stdout",
     "output_type": "stream",
     "text": [
      "Using cuda:0 device\n",
      "208232\n",
      "208231\n"
     ]
    },
    {
     "ename": "OutOfMemoryError",
     "evalue": "CUDA out of memory. Tried to allocate 7.24 GiB (GPU 0; 39.45 GiB total capacity; 3.74 GiB already allocated; 184.81 MiB free; 37.48 GiB allowed; 3.77 GiB reserved in total by PyTorch) If reserved memory is >> allocated memory try setting max_split_size_mb to avoid fragmentation.  See documentation for Memory Management and PYTORCH_CUDA_ALLOC_CONF",
     "output_type": "error",
     "traceback": [
      "\u001b[0;31m---------------------------------------------------------------------------\u001b[0m",
      "\u001b[0;31mOutOfMemoryError\u001b[0m                          Traceback (most recent call last)",
      "Cell \u001b[0;32mIn[9], line 28\u001b[0m\n\u001b[1;32m     24\u001b[0m optimizer\u001b[38;5;241m.\u001b[39mzero_grad()\n\u001b[1;32m     26\u001b[0m decoded_text, decoded_img, mu, logvar, classifier_result \u001b[38;5;241m=\u001b[39m model(text, img)\n\u001b[0;32m---> 28\u001b[0m loss \u001b[38;5;241m=\u001b[39m model\u001b[38;5;241m.\u001b[39mloss_function(\n\u001b[1;32m     29\u001b[0m     text, img, party, decoded_text, decoded_img, mu, logvar, classifier_result\n\u001b[1;32m     30\u001b[0m )\n\u001b[1;32m     31\u001b[0m loss\u001b[38;5;241m.\u001b[39mbackward()\n\u001b[1;32m     33\u001b[0m train_loss \u001b[38;5;241m+\u001b[39m\u001b[38;5;241m=\u001b[39m loss\u001b[38;5;241m.\u001b[39mitem()\n",
      "File \u001b[0;32m/work/Instagram_Project/instagram-project/models/mvae.py:174\u001b[0m, in \u001b[0;36mMVAE.loss_function\u001b[0;34m(self, text, img, post_class, decoded_text, decoded_img, mu, logvar, predicted_class)\u001b[0m\n\u001b[1;32m    171\u001b[0m \u001b[38;5;28;01mdef\u001b[39;00m \u001b[38;5;21mloss_function\u001b[39m(\n\u001b[1;32m    172\u001b[0m     \u001b[38;5;28mself\u001b[39m, text, img, post_class, decoded_text, decoded_img, mu, logvar, predicted_class\n\u001b[1;32m    173\u001b[0m ):\n\u001b[0;32m--> 174\u001b[0m     one_hot_input_text \u001b[38;5;241m=\u001b[39m nn\u001b[38;5;241m.\u001b[39mfunctional\u001b[38;5;241m.\u001b[39mone_hot(text, num_classes \u001b[38;5;241m=\u001b[39m \u001b[38;5;28mself\u001b[39m\u001b[38;5;241m.\u001b[39mvocab_size)\u001b[38;5;241m.\u001b[39mfloat()\u001b[38;5;241m.\u001b[39mto(\u001b[38;5;28mself\u001b[39m\u001b[38;5;241m.\u001b[39mdevice)\n\u001b[1;32m    175\u001b[0m     one_hot_input_text \u001b[38;5;241m=\u001b[39m one_hot_input_text\u001b[38;5;241m.\u001b[39mhalf()\n\u001b[1;32m    176\u001b[0m     one_hot_input_text[text \u001b[38;5;241m==\u001b[39m \u001b[38;5;28mself\u001b[39m\u001b[38;5;241m.\u001b[39mpadding_index] \u001b[38;5;241m=\u001b[39m \u001b[38;5;241m-\u001b[39m\u001b[38;5;241m100\u001b[39m\n",
      "\u001b[0;31mOutOfMemoryError\u001b[0m: CUDA out of memory. Tried to allocate 7.24 GiB (GPU 0; 39.45 GiB total capacity; 3.74 GiB already allocated; 184.81 MiB free; 37.48 GiB allowed; 3.77 GiB reserved in total by PyTorch) If reserved memory is >> allocated memory try setting max_split_size_mb to avoid fragmentation.  See documentation for Memory Management and PYTORCH_CUDA_ALLOC_CONF"
     ]
    }
   ],
   "source": [
    "# Train model\n",
    "\n",
    "train_dataloader = DataLoader(train_dataset, batch_size=batch_size, shuffle=True)\n",
    "test_dataloader = DataLoader(test_dataset, batch_size=batch_size, shuffle=False)\n",
    "\n",
    "device = \"cuda:0\" if torch.cuda.is_available() else \"cpu\"\n",
    "\n",
    "print(f\"Using {device} device\")\n",
    "\n",
    "model = MVAE(device, 32, 32, text_embeddings, dataset.padding_index, 2048, dataset.num_post_classes).to(device)\n",
    "model = model.half()\n",
    "optimizer = Adam(model.parameters(), lr=learning_rate)\n",
    "\n",
    "for epoch in range(num_epochs):\n",
    "    model.train()\n",
    "    train_loss = 0\n",
    "    correct = 0\n",
    "\n",
    "    for batch_idx, (text, img, party) in enumerate(train_dataloader):\n",
    "        text = text.to(device)\n",
    "        img = img.to(device)\n",
    "        img = img.half()\n",
    "        \n",
    "        optimizer.zero_grad()\n",
    "\n",
    "        decoded_text, decoded_img, mu, logvar, classifier_result = model(text, img)\n",
    "\n",
    "        loss = model.loss_function(\n",
    "            text, img, party, decoded_text, decoded_img, mu, logvar, classifier_result\n",
    "        )\n",
    "        loss.backward()\n",
    "\n",
    "        train_loss += loss.item()\n",
    "        \n",
    "        optimizer.step()\n",
    "        \n",
    "        correct += (party == torch.argmax(classifier_result, dim=-1).detach().cpu()).sum().item()\n",
    "\n",
    "    print(f\"Train Epoch: {epoch+1} \\tAccuracy: {(correct * 100) / len(train_dataset):.2f}% \\tLoss: {train_loss / len(train_dataloader):.6f}\")\n"
   ]
  },
  {
   "cell_type": "code",
   "execution_count": 21,
   "id": "1bf457f1-3507-4bfd-bd63-a660edfd43c7",
   "metadata": {},
   "outputs": [
    {
     "name": "stdout",
     "output_type": "stream",
     "text": [
      "torch.float16\n",
      "torch.float16\n",
      "torch.float16\n",
      "torch.float16\n",
      "torch.float16\n",
      "torch.float16\n",
      "torch.float16\n",
      "torch.float16\n",
      "torch.float16\n",
      "torch.float16\n",
      "torch.float16\n",
      "torch.float16\n",
      "torch.float16\n",
      "torch.float16\n",
      "torch.float16\n",
      "torch.float16\n",
      "torch.float16\n",
      "torch.float16\n",
      "torch.float16\n",
      "torch.float16\n",
      "torch.float16\n",
      "torch.float16\n",
      "torch.float16\n",
      "torch.float16\n",
      "torch.float16\n",
      "torch.float16\n",
      "torch.float16\n",
      "torch.float16\n",
      "torch.float16\n",
      "torch.float16\n",
      "torch.float16\n",
      "torch.float16\n",
      "torch.float16\n",
      "torch.float16\n",
      "torch.float16\n",
      "torch.float16\n",
      "torch.float16\n",
      "torch.float16\n",
      "torch.float16\n",
      "torch.float16\n",
      "torch.float16\n",
      "torch.float16\n",
      "torch.float16\n",
      "torch.float16\n",
      "torch.float16\n",
      "torch.float16\n",
      "torch.float16\n",
      "torch.float16\n",
      "torch.float16\n",
      "torch.float16\n",
      "torch.float16\n",
      "torch.float16\n",
      "torch.float16\n",
      "torch.float16\n",
      "torch.float16\n",
      "torch.float16\n",
      "torch.float16\n",
      "torch.float16\n",
      "torch.float16\n",
      "torch.float16\n",
      "torch.float16\n"
     ]
    }
   ],
   "source": [
    "for param in model.parameters():\n",
    "    print(param.half().dtype)"
   ]
  },
  {
   "cell_type": "code",
   "execution_count": null,
   "id": "8d66201f-93b9-414c-8dff-1897d2e18ead",
   "metadata": {},
   "outputs": [],
   "source": [
    "# Test Model\n",
    "\n",
    "model.eval()\n",
    "test_loss = 0\n",
    "test_correct = 0\n",
    "\n",
    "for batch_idx, (image_embedding, party) in enumerate(test_dataloader):\n",
    "    image_embedding = image_embedding.to(device)\n",
    "\n",
    "    decoded_image, mu, logvar, classifier_result = model(image_embedding)\n",
    "\n",
    "    loss = model.loss_function(\n",
    "        image_embedding, party, decoded_image, mu, logvar, classifier_result\n",
    "    )\n",
    "\n",
    "    test_loss += loss.item()\n",
    "\n",
    "    test_correct += (party == torch.argmax(classifier_result, dim=-1).detach().cpu()).sum().item()\n",
    "\n",
    "print(f\"Test Metrics \\tAccuracy: {(test_correct * 100) / len(test_dataset):.2f}% \\tLoss: {test_loss / len(test_dataloader):.6f}\")\n"
   ]
  }
 ],
 "metadata": {
  "kernelspec": {
   "display_name": "Python [conda env:.conda-instagram_project] *",
   "language": "python",
   "name": "conda-env-.conda-instagram_project-py"
  },
  "language_info": {
   "codemirror_mode": {
    "name": "ipython",
    "version": 3
   },
   "file_extension": ".py",
   "mimetype": "text/x-python",
   "name": "python",
   "nbconvert_exporter": "python",
   "pygments_lexer": "ipython3",
   "version": "3.11.2"
  }
 },
 "nbformat": 4,
 "nbformat_minor": 5
}
