{
 "cells": [
  {
   "cell_type": "code",
   "execution_count": 21,
   "id": "492c4d7e-f0a9-4b99-941b-8c3158561668",
   "metadata": {},
   "outputs": [
    {
     "name": "stdout",
     "output_type": "stream",
     "text": [
      "Using cuda device\n",
      "The autoreload extension is already loaded. To reload it, use:\n",
      "  %reload_ext autoreload\n"
     ]
    }
   ],
   "source": [
    "%load_ext autoreload\n",
    "%autoreload 2\n",
    "\n",
    "import pandas as pd\n",
    "\n",
    "import torch\n",
    "from pytorch_datasets.img_dataset import ImageDataset\n",
    "from torch.utils.data import DataLoader, random_split\n",
    "from models.vae_img import ImageVAE\n",
    "from torch.optim import Adam"
   ]
  },
  {
   "cell_type": "code",
   "execution_count": 15,
   "id": "294ae08e-f61d-4d57-ac1b-14c0c20116f0",
   "metadata": {},
   "outputs": [],
   "source": [
    "cuda_device = 0 # set the index of the GPU you want to use\n",
    "torch.cuda.set_device(cuda_device)\n",
    "torch.backends.cudnn.benchmark = True\n",
    "\n",
    "# set the maximum GPU memory usage\n",
    "max_memory_usage = 0.98 # set the maximum memory usage as a fraction of the available memory\n",
    "# torch.cuda.set_max_memory_allocated(int(torch.cuda.get_device_properties(cuda_device).total_memory * max_memory_usage))\n",
    "torch.cuda.set_per_process_memory_fraction(max_memory_usage, cuda_device)"
   ]
  },
  {
   "cell_type": "code",
   "execution_count": 16,
   "id": "5ea98529-e19f-43b4-ba65-0bc1eb05aae8",
   "metadata": {},
   "outputs": [
    {
     "name": "stdout",
     "output_type": "stream",
     "text": [
      "0.10911703109741211\n"
     ]
    }
   ],
   "source": [
    "print(torch.cuda.max_memory_allocated(cuda_device)/1024/1024/1024)\n",
    "torch.cuda.empty_cache()"
   ]
  },
  {
   "cell_type": "code",
   "execution_count": 17,
   "id": "ece67c88-582f-494b-8a68-aa4e0330e55c",
   "metadata": {},
   "outputs": [
    {
     "name": "stderr",
     "output_type": "stream",
     "text": [
      "/tmp/ipykernel_46489/2114043278.py:3: DtypeWarning: Columns (24,41,42,43,44,45,46,47,48,49,50,51,52,53,54,55,56,57,58,59,60,62,63,65) have mixed types. Specify dtype option on import or set low_memory=False.\n",
      "  instagram_data = pd.read_csv(\"data/instagram_data.csv\")\n"
     ]
    },
    {
     "name": "stdout",
     "output_type": "stream",
     "text": [
      "380987\n",
      "Removed 0 rows due to N/A images.\n"
     ]
    }
   ],
   "source": [
    "# Load and clean data\n",
    "\n",
    "instagram_data = pd.read_csv(\"data/instagram_data.csv\")\n",
    "data = instagram_data.dropna(subset=[\"id\"]).reset_index(drop=True)\n",
    "print(len(data))\n",
    "\n",
    "print(f\"Removed {len(instagram_data) - len(data)} rows due to N/A images.\")"
   ]
  },
  {
   "cell_type": "code",
   "execution_count": 18,
   "id": "3bdb96d5-bbd8-4b74-a70f-b955781a87f9",
   "metadata": {},
   "outputs": [
    {
     "name": "stdout",
     "output_type": "stream",
     "text": [
      "11755 of data removed because matching VGG image embeddings not found.\n",
      "Complete Dataset Size: 369232\n",
      "Training Dataset Size: 295386\n",
      "Test Dataset Size: 73846\n"
     ]
    }
   ],
   "source": [
    "# Create Dataset\n",
    "\n",
    "image_usernames = data[\"username\"].tolist()\n",
    "image_file_ids = data[\"id\"].tolist()\n",
    "image_encoding_folder_path = \"data/VGG/\"\n",
    "post_classes = data[\"Party\"].tolist()\n",
    "\n",
    "dataset = ImageDataset(image_usernames, image_file_ids, image_encoding_folder_path, post_classes)\n",
    "\n",
    "train_dataset, test_dataset = random_split(dataset, [0.8, 0.2])\n",
    "print(\"Complete Dataset Size:\", len(dataset))\n",
    "print(\"Training Dataset Size:\", len(train_dataset))\n",
    "print(\"Test Dataset Size:\", len(test_dataset))"
   ]
  },
  {
   "cell_type": "code",
   "execution_count": 19,
   "id": "d7c3fcf8-8f3a-4f3e-9882-f5b1fcc56f52",
   "metadata": {},
   "outputs": [],
   "source": [
    "# Set hyperparameters\n",
    "\n",
    "num_epochs = 10\n",
    "batch_size = 128\n",
    "learning_rate = 0.001"
   ]
  },
  {
   "cell_type": "code",
   "execution_count": 22,
   "id": "b10226fd-3500-426a-adb1-5ad20cce9229",
   "metadata": {},
   "outputs": [
    {
     "name": "stdout",
     "output_type": "stream",
     "text": [
      "Using cuda device\n",
      "Train Epoch: 1 \tAccuracy: 57.46% \tLoss: 5.805368\n",
      "Train Epoch: 2 \tAccuracy: 57.53% \tLoss: 5.803465\n",
      "Train Epoch: 3 \tAccuracy: 57.53% \tLoss: 5.803390\n",
      "Train Epoch: 4 \tAccuracy: 57.53% \tLoss: 5.803332\n",
      "Train Epoch: 5 \tAccuracy: 57.53% \tLoss: 5.803265\n",
      "Train Epoch: 6 \tAccuracy: 57.52% \tLoss: 5.803319\n",
      "Train Epoch: 7 \tAccuracy: 57.53% \tLoss: 5.803260\n",
      "Train Epoch: 8 \tAccuracy: 57.53% \tLoss: 5.803303\n",
      "Train Epoch: 9 \tAccuracy: 57.53% \tLoss: 5.803213\n",
      "Train Epoch: 10 \tAccuracy: 57.53% \tLoss: 5.803238\n"
     ]
    }
   ],
   "source": [
    "# Train model\n",
    "\n",
    "train_dataloader = DataLoader(train_dataset, batch_size=batch_size, shuffle=True)\n",
    "test_dataloader = DataLoader(test_dataset, batch_size=batch_size, shuffle=False)\n",
    "\n",
    "# small_dataset = ImageDataset(image_usernames[:1000], image_file_ids[:1000], image_encoding_folder_path, post_classes[:1000])\n",
    "# small_dataloader = DataLoader(small_dataset, batch_size=batch_size, shuffle=True)\n",
    "\n",
    "device = \"cuda\" if torch.cuda.is_available() else \"cpu\"\n",
    "\n",
    "print(f\"Using {device} device\")\n",
    "\n",
    "model = ImageVAE(device, 32, 32, 2048, dataset.num_post_classes).to(device)\n",
    "optimizer = Adam(model.parameters(), lr=learning_rate)\n",
    "\n",
    "for epoch in range(num_epochs):\n",
    "    model.train()\n",
    "    train_loss = 0\n",
    "    correct = 0\n",
    "\n",
    "    for batch_idx, (image_embedding, party) in enumerate(train_dataloader):\n",
    "        image_embedding = image_embedding.to(device)\n",
    "\n",
    "        decoded_image, mu, logvar, classifier_result = model(image_embedding)\n",
    "        \n",
    "        optimizer.zero_grad()\n",
    "\n",
    "        loss = model.loss_function(\n",
    "            image_embedding, party, decoded_image, mu, logvar, classifier_result\n",
    "        )\n",
    "\n",
    "        loss.backward()\n",
    "\n",
    "        train_loss += loss.item()\n",
    "        optimizer.step()\n",
    "        \n",
    "        # print(party)\n",
    "        # print(classifier_result)\n",
    "        # print(torch.argmax(classifier_result, dim=-1))\n",
    "        \n",
    "        correct += (party.to(device) == torch.argmax(classifier_result, dim=-1)).float().sum()\n",
    "\n",
    "    print(f\"Train Epoch: {epoch+1} \\tAccuracy: {(correct * 100) / len(train_dataset):.2f}% \\tLoss: {train_loss / len(train_dataloader):.6f}\")\n"
   ]
  },
  {
   "cell_type": "code",
   "execution_count": 23,
   "id": "b33b368b-33ba-4382-95f3-a56cda2c126d",
   "metadata": {},
   "outputs": [
    {
     "name": "stdout",
     "output_type": "stream",
     "text": [
      "Test Metrics \tAccuracy: 57.97% \tLoss: 5.801511\n"
     ]
    }
   ],
   "source": [
    "# Test Model\n",
    "\n",
    "model.eval()\n",
    "test_loss = 0\n",
    "test_correct = 0\n",
    "\n",
    "for batch_idx, (image_embedding, party) in enumerate(test_dataloader):\n",
    "    image_embedding = image_embedding.to(device)\n",
    "\n",
    "    decoded_image, mu, logvar, classifier_result = model(image_embedding)\n",
    "\n",
    "    optimizer.zero_grad()\n",
    "\n",
    "    loss = model.loss_function(\n",
    "        image_embedding, party, decoded_image, mu, logvar, classifier_result\n",
    "    )\n",
    "\n",
    "    loss.backward()\n",
    "\n",
    "    test_loss += loss.item()\n",
    "    optimizer.step()\n",
    "\n",
    "    test_correct += (party.to(device) == torch.argmax(classifier_result, dim=-1)).float().sum()\n",
    "\n",
    "print(f\"Test Metrics \\tAccuracy: {(test_correct * 100) / len(test_dataset):.2f}% \\tLoss: {test_loss / len(test_dataloader):.6f}\")\n"
   ]
  }
 ],
 "metadata": {
  "kernelspec": {
   "display_name": "Python 3 (ipykernel)",
   "language": "python",
   "name": "python3"
  },
  "language_info": {
   "codemirror_mode": {
    "name": "ipython",
    "version": 3
   },
   "file_extension": ".py",
   "mimetype": "text/x-python",
   "name": "python",
   "nbconvert_exporter": "python",
   "pygments_lexer": "ipython3",
   "version": "3.11.2"
  }
 },
 "nbformat": 4,
 "nbformat_minor": 5
}
