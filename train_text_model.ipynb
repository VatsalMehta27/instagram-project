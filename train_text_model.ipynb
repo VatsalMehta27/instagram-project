{
 "cells": [
  {
   "cell_type": "code",
   "execution_count": 1,
   "id": "dc57c234-8c5d-40ce-92e0-6d9363e67cb9",
   "metadata": {},
   "outputs": [
    {
     "name": "stderr",
     "output_type": "stream",
     "text": [
      "[nltk_data] Downloading package stopwords to\n",
      "[nltk_data]     /home/mehta.vats/nltk_data...\n",
      "[nltk_data]   Package stopwords is already up-to-date!\n"
     ]
    }
   ],
   "source": [
    "%load_ext autoreload\n",
    "%autoreload 2\n",
    "\n",
    "import pandas as pd\n",
    "\n",
    "from preprocessing.preprocess_text import clean_text\n",
    "from preprocessing.gen_text_embeddings import generate_text_embeddings\n",
    "import torch\n",
    "from pytorch_datasets.text_dataset import TextDataset\n",
    "from torch.utils.data import DataLoader, random_split\n",
    "from models.vae_text import TextVAE\n",
    "from torch.optim import Adam"
   ]
  },
  {
   "cell_type": "code",
   "execution_count": 2,
   "id": "e7993ba9-dafb-434d-8a0e-95b6861c9cfa",
   "metadata": {},
   "outputs": [],
   "source": [
    "cuda_device = 0 # set the index of the GPU you want to use\n",
    "torch.cuda.set_device(cuda_device)\n",
    "torch.backends.cudnn.benchmark = True\n",
    "\n",
    "# set the maximum GPU memory usage\n",
    "max_memory_usage = 0.95 # set the maximum memory usage as a fraction of the available memory\n",
    "# torch.cuda.set_max_memory_allocated(int(torch.cuda.get_device_properties(cuda_device).total_memory * max_memory_usage))\n",
    "torch.cuda.set_per_process_memory_fraction(max_memory_usage, cuda_device)"
   ]
  },
  {
   "cell_type": "code",
   "execution_count": 3,
   "id": "2ef52edb-9aed-480e-929b-178542653e1b",
   "metadata": {},
   "outputs": [
    {
     "name": "stdout",
     "output_type": "stream",
     "text": [
      "0.0\n"
     ]
    }
   ],
   "source": [
    "print(torch.cuda.max_memory_allocated(cuda_device)/1024/1024/1024)\n",
    "torch.cuda.empty_cache()"
   ]
  },
  {
   "cell_type": "code",
   "execution_count": 4,
   "id": "841ac87a-ff7a-4c35-b7a8-0b12a151b987",
   "metadata": {},
   "outputs": [
    {
     "name": "stderr",
     "output_type": "stream",
     "text": [
      "/tmp/ipykernel_50901/1765520156.py:3: DtypeWarning: Columns (24,41,42,43,44,45,46,47,48,49,50,51,52,53,54,55,56,57,58,59,60,62,63,65) have mixed types. Specify dtype option on import or set low_memory=False.\n",
      "  instagram_data = pd.read_csv(\"data/instagram_data.csv\")\n"
     ]
    },
    {
     "name": "stdout",
     "output_type": "stream",
     "text": [
      "Removed 7662 rows due to N/A descriptions.\n"
     ]
    }
   ],
   "source": [
    "# Load and preprocess data\n",
    "\n",
    "instagram_data = pd.read_csv(\"data/instagram_data.csv\")\n",
    "data = instagram_data.dropna(subset=[\"description\"]).reset_index(drop=True)\n",
    "\n",
    "print(f\"Removed {len(instagram_data) - len(data)} rows due to N/A descriptions.\")\n",
    "\n",
    "# data = data.sample(frac=0.1)\n",
    "\n",
    "post_descriptions = (\n",
    "    data[\"description\"]\n",
    "    .apply(lambda text: clean_text(text) if type(text) == str else text)\n",
    "    .tolist()\n",
    ")\n",
    "\n",
    "post_classes = data[\"Party\"].tolist()"
   ]
  },
  {
   "cell_type": "code",
   "execution_count": 5,
   "id": "f6b08908-b68a-41f0-816a-68eb7373f97c",
   "metadata": {},
   "outputs": [],
   "source": [
    "# Generate Text Embeddings\n",
    "text_embeddings, word_index_mapping = generate_text_embeddings(post_descriptions, 32)"
   ]
  },
  {
   "cell_type": "code",
   "execution_count": 6,
   "id": "3db8a2d6-0787-440c-a82f-95e3ccbb35a5",
   "metadata": {},
   "outputs": [
    {
     "name": "stdout",
     "output_type": "stream",
     "text": [
      "373325\n",
      "298660\n",
      "74665\n"
     ]
    }
   ],
   "source": [
    "# Create datasets\n",
    "dataset = TextDataset(post_descriptions, word_index_mapping, post_classes)\n",
    "\n",
    "train_dataset, test_dataset = random_split(dataset, [0.8, 0.2])\n",
    "print(len(dataset))\n",
    "print(len(train_dataset))\n",
    "print(len(test_dataset))"
   ]
  },
  {
   "cell_type": "code",
   "execution_count": null,
   "id": "aaa384ca-bca3-489f-81c5-14f706d3e4f6",
   "metadata": {},
   "outputs": [
    {
     "name": "stdout",
     "output_type": "stream",
     "text": [
      "Using cuda:0 device\n",
      "208232\n",
      "208231\n"
     ]
    }
   ],
   "source": [
    "# Train model\n",
    "\n",
    "num_epochs = 10\n",
    "batch_size = 32\n",
    "\n",
    "train_dataloader = DataLoader(train_dataset, batch_size=batch_size, shuffle=True)\n",
    "test_dataloader = DataLoader(test_dataset, batch_size=batch_size, shuffle=False)\n",
    "\n",
    "small_dataset = TextDataset(post_descriptions[:1000], word_index_mapping, post_classes[:1000])\n",
    "small_dataloader = DataLoader(small_dataset, batch_size=batch_size, shuffle=False)\n",
    "\n",
    "device = \"cuda:0\" if torch.cuda.is_available() else \"cpu\"\n",
    "\n",
    "print(f\"Using {device} device\")\n",
    "\n",
    "model = TextVAE(device, 32, 32, text_embeddings, dataset.padding_index, dataset.num_post_classes).to(device)\n",
    "optimizer = Adam(model.parameters(), lr=1e-3)\n",
    "\n",
    "for epoch in range(num_epochs):\n",
    "    model.train()\n",
    "    train_loss = 0\n",
    "    correct = 0\n",
    "\n",
    "    for batch_idx, (text, party) in enumerate(train_dataloader):\n",
    "        text = text.to(device)\n",
    "\n",
    "        decoded_text, mu, logvar, classifier_result = model(text)\n",
    "        \n",
    "        optimizer.zero_grad()\n",
    "\n",
    "        loss = model.loss_function(\n",
    "            text, party, decoded_text, mu, logvar, classifier_result\n",
    "        )\n",
    "        loss.backward()\n",
    "\n",
    "        train_loss += loss.item()\n",
    "        optimizer.step()\n",
    "        \n",
    "        correct += (party == torch.argmax(classifier_result, dim=-1).detach().cpu()).sum().item()\n",
    "\n",
    "    print(f\"Train Epoch: {epoch+1} \\tAccuracy: {(correct * 100) / len(train_dataset):.2f}% \\tLoss: {train_loss / len(train_dataloader):.6f}\")\n"
   ]
  },
  {
   "cell_type": "code",
   "execution_count": null,
   "id": "8d66201f-93b9-414c-8dff-1897d2e18ead",
   "metadata": {},
   "outputs": [],
   "source": [
    "# Test Model\n",
    "\n",
    "model.eval()\n",
    "test_loss = 0\n",
    "test_correct = 0\n",
    "\n",
    "for batch_idx, (image_embedding, party) in enumerate(test_dataloader):\n",
    "    image_embedding = image_embedding.to(device)\n",
    "\n",
    "    decoded_image, mu, logvar, classifier_result = model(image_embedding)\n",
    "\n",
    "    loss = model.loss_function(\n",
    "        image_embedding, party, decoded_image, mu, logvar, classifier_result\n",
    "    )\n",
    "\n",
    "    test_loss += loss.item()\n",
    "\n",
    "    test_correct += (party == torch.argmax(classifier_result, dim=-1).detach().cpu()).sum().item()\n",
    "\n",
    "print(f\"Test Metrics \\tAccuracy: {(test_correct * 100) / len(test_dataset):.2f}% \\tLoss: {test_loss / len(test_dataloader):.6f}\")\n"
   ]
  }
 ],
 "metadata": {
  "kernelspec": {
   "display_name": "Python 3 (ipykernel)",
   "language": "python",
   "name": "python3"
  },
  "language_info": {
   "codemirror_mode": {
    "name": "ipython",
    "version": 3
   },
   "file_extension": ".py",
   "mimetype": "text/x-python",
   "name": "python",
   "nbconvert_exporter": "python",
   "pygments_lexer": "ipython3",
   "version": "3.11.2"
  }
 },
 "nbformat": 4,
 "nbformat_minor": 5
}
